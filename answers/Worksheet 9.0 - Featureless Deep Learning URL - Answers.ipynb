{
 "cells": [
  {
   "cell_type": "code",
   "execution_count": 2,
   "metadata": {
    "ExecuteTime": {
     "end_time": "2023-08-02T00:57:06.144447Z",
     "start_time": "2023-08-02T00:56:57.002456Z"
    }
   },
   "outputs": [],
   "source": [
    "# Load Libraries - Make sure to run this cell!\n",
    "import pandas as pd\n",
    "import numpy as np\n",
    "import re, os\n",
    "from string import printable\n",
    "from sklearn import model_selection\n",
    "\n",
    "#import gensim\n",
    "import tensorflow as tf\n",
    "from keras.models import Sequential, Model, model_from_json, load_model\n",
    "from keras import regularizers\n",
    "from keras.layers import Dense, Dropout, Activation, Lambda, Flatten, Concatenate\n",
    "from keras.layers import Input, ELU, LSTM, Embedding, Convolution2D, MaxPooling2D, \\\n",
    "BatchNormalization, Convolution1D, MaxPooling1D\n",
    "from keras.preprocessing import sequence\n",
    "from keras.optimizers import SGD, Adam, RMSprop\n",
    "import np_utils\n",
    "from keras import initializers\n",
    "from keras import backend as K\n",
    "\n",
    "from pathlib import Path\n",
    "import json\n",
    "\n",
    "import warnings\n",
    "warnings.filterwarnings(\"ignore\")"
   ]
  },
  {
   "cell_type": "markdown",
   "metadata": {},
   "source": [
    "\n",
    "<img src=\"../img/GTK_Logo_Social Icon.jpg\" width=175 align=\"right\" />\n",
    "\n",
    "## Featureless Deep Learning\n",
    "\n",
    "This notebook shows three commonly used neural network architectures to detect malicious URLs using **featureless Deep Learning**. [Keras](https://keras.io/) is used as high-level API for [tensorflow](https://www.tensorflow.org/) backend). \n",
    "\n",
    "Please refer to the slides (```Module 4.4 Featureless Deep Learning```) for additional info!\n"
   ]
  },
  {
   "cell_type": "markdown",
   "metadata": {},
   "source": [
    "## Preprocess raw URLs"
   ]
  },
  {
   "cell_type": "code",
   "execution_count": 3,
   "metadata": {
    "ExecuteTime": {
     "end_time": "2023-08-02T00:57:09.307337Z",
     "start_time": "2023-08-02T00:57:09.090397Z"
    }
   },
   "outputs": [
    {
     "data": {
      "text/html": [
       "<div>\n",
       "<style scoped>\n",
       "    .dataframe tbody tr th:only-of-type {\n",
       "        vertical-align: middle;\n",
       "    }\n",
       "\n",
       "    .dataframe tbody tr th {\n",
       "        vertical-align: top;\n",
       "    }\n",
       "\n",
       "    .dataframe thead th {\n",
       "        text-align: right;\n",
       "    }\n",
       "</style>\n",
       "<table border=\"1\" class=\"dataframe\">\n",
       "  <thead>\n",
       "    <tr style=\"text-align: right;\">\n",
       "      <th></th>\n",
       "      <th>url</th>\n",
       "      <th>isMalicious</th>\n",
       "    </tr>\n",
       "  </thead>\n",
       "  <tbody>\n",
       "    <tr>\n",
       "      <th>122529</th>\n",
       "      <td>hcorganize.com/kontrol/assets/plugins/fullcale...</td>\n",
       "      <td>1</td>\n",
       "    </tr>\n",
       "    <tr>\n",
       "      <th>108721</th>\n",
       "      <td>igforweddingpros.com/Docs/Folders/dropbox</td>\n",
       "      <td>1</td>\n",
       "    </tr>\n",
       "    <tr>\n",
       "      <th>179608</th>\n",
       "      <td>hotnepalijobs.com/2015/06/banking-job-vacancy-...</td>\n",
       "      <td>1</td>\n",
       "    </tr>\n",
       "    <tr>\n",
       "      <th>45959</th>\n",
       "      <td>rotoworld.com/player/mlb/4972/player?r=1</td>\n",
       "      <td>0</td>\n",
       "    </tr>\n",
       "    <tr>\n",
       "      <th>84937</th>\n",
       "      <td>scarymommy.com/circle-with-disney-screen-time</td>\n",
       "      <td>0</td>\n",
       "    </tr>\n",
       "    <tr>\n",
       "      <th>92374</th>\n",
       "      <td>agrupamentotabuaco.com/images/20142015/PDF/201...</td>\n",
       "      <td>0</td>\n",
       "    </tr>\n",
       "    <tr>\n",
       "      <th>187812</th>\n",
       "      <td>hc0.me/panel/?login</td>\n",
       "      <td>1</td>\n",
       "    </tr>\n",
       "    <tr>\n",
       "      <th>90670</th>\n",
       "      <td>thethirdmedia.com/Article/201703/show376242c77...</td>\n",
       "      <td>0</td>\n",
       "    </tr>\n",
       "    <tr>\n",
       "      <th>142285</th>\n",
       "      <td>zorattoproductions.com/up</td>\n",
       "      <td>1</td>\n",
       "    </tr>\n",
       "    <tr>\n",
       "      <th>17975</th>\n",
       "      <td>gree.com.cn/pczwb/xwzx/cms_category_1261/20170...</td>\n",
       "      <td>0</td>\n",
       "    </tr>\n",
       "    <tr>\n",
       "      <th>103061</th>\n",
       "      <td>avn.life/CIBCOnline%20olbtxn%20Authentication%...</td>\n",
       "      <td>1</td>\n",
       "    </tr>\n",
       "    <tr>\n",
       "      <th>158424</th>\n",
       "      <td>supergem.net/tk0b180</td>\n",
       "      <td>1</td>\n",
       "    </tr>\n",
       "    <tr>\n",
       "      <th>76863</th>\n",
       "      <td>deredactie.be/cm/vrtnieuws/buitenland/2.48618</td>\n",
       "      <td>0</td>\n",
       "    </tr>\n",
       "    <tr>\n",
       "      <th>35867</th>\n",
       "      <td>nycourts.gov/courthelp</td>\n",
       "      <td>0</td>\n",
       "    </tr>\n",
       "    <tr>\n",
       "      <th>158776</th>\n",
       "      <td>pinnacle.com.ph/training/motivation/Account/in...</td>\n",
       "      <td>1</td>\n",
       "    </tr>\n",
       "    <tr>\n",
       "      <th>136029</th>\n",
       "      <td>servehttp.com</td>\n",
       "      <td>1</td>\n",
       "    </tr>\n",
       "    <tr>\n",
       "      <th>142443</th>\n",
       "      <td>engenharia.ws/phps/aviso_grava.php</td>\n",
       "      <td>1</td>\n",
       "    </tr>\n",
       "    <tr>\n",
       "      <th>4512</th>\n",
       "      <td>jaafsl.com/media-room/item/80-jaaf-hails-sean-...</td>\n",
       "      <td>0</td>\n",
       "    </tr>\n",
       "    <tr>\n",
       "      <th>149170</th>\n",
       "      <td>nutmegltd.com/store/js/flash/bf7f0f8c81066ce96...</td>\n",
       "      <td>1</td>\n",
       "    </tr>\n",
       "    <tr>\n",
       "      <th>105941</th>\n",
       "      <td>vera.com.uy/login</td>\n",
       "      <td>1</td>\n",
       "    </tr>\n",
       "    <tr>\n",
       "      <th>166243</th>\n",
       "      <td>walkingonwaterstore.com/dak/login/secure-login...</td>\n",
       "      <td>1</td>\n",
       "    </tr>\n",
       "    <tr>\n",
       "      <th>26151</th>\n",
       "      <td>yoox.com/us/men/shoponline/sweaters and sweats...</td>\n",
       "      <td>0</td>\n",
       "    </tr>\n",
       "    <tr>\n",
       "      <th>52117</th>\n",
       "      <td>blu-ray.com/movies/The-Bitch-Blu-ray/165096</td>\n",
       "      <td>0</td>\n",
       "    </tr>\n",
       "    <tr>\n",
       "      <th>113579</th>\n",
       "      <td>necessarius.net/cn/2/anoda</td>\n",
       "      <td>1</td>\n",
       "    </tr>\n",
       "    <tr>\n",
       "      <th>141942</th>\n",
       "      <td>fermmedia.com/87yg5fd5</td>\n",
       "      <td>1</td>\n",
       "    </tr>\n",
       "  </tbody>\n",
       "</table>\n",
       "</div>"
      ],
      "text/plain": [
       "                                                      url  isMalicious\n",
       "122529  hcorganize.com/kontrol/assets/plugins/fullcale...            1\n",
       "108721          igforweddingpros.com/Docs/Folders/dropbox            1\n",
       "179608  hotnepalijobs.com/2015/06/banking-job-vacancy-...            1\n",
       "45959            rotoworld.com/player/mlb/4972/player?r=1            0\n",
       "84937       scarymommy.com/circle-with-disney-screen-time            0\n",
       "92374   agrupamentotabuaco.com/images/20142015/PDF/201...            0\n",
       "187812                                hc0.me/panel/?login            1\n",
       "90670   thethirdmedia.com/Article/201703/show376242c77...            0\n",
       "142285                          zorattoproductions.com/up            1\n",
       "17975   gree.com.cn/pczwb/xwzx/cms_category_1261/20170...            0\n",
       "103061  avn.life/CIBCOnline%20olbtxn%20Authentication%...            1\n",
       "158424                               supergem.net/tk0b180            1\n",
       "76863       deredactie.be/cm/vrtnieuws/buitenland/2.48618            0\n",
       "35867                              nycourts.gov/courthelp            0\n",
       "158776  pinnacle.com.ph/training/motivation/Account/in...            1\n",
       "136029                                      servehttp.com            1\n",
       "142443                 engenharia.ws/phps/aviso_grava.php            1\n",
       "4512    jaafsl.com/media-room/item/80-jaaf-hails-sean-...            0\n",
       "149170  nutmegltd.com/store/js/flash/bf7f0f8c81066ce96...            1\n",
       "105941                                  vera.com.uy/login            1\n",
       "166243  walkingonwaterstore.com/dak/login/secure-login...            1\n",
       "26151   yoox.com/us/men/shoponline/sweaters and sweats...            0\n",
       "52117         blu-ray.com/movies/The-Bitch-Blu-ray/165096            0\n",
       "113579                         necessarius.net/cn/2/anoda            1\n",
       "141942                             fermmedia.com/87yg5fd5            1"
      ]
     },
     "execution_count": 3,
     "metadata": {},
     "output_type": "execute_result"
    }
   ],
   "source": [
    "## Load data URL\n",
    "\n",
    "DATA_HOME = '../data/'\n",
    "df = pd.read_csv(DATA_HOME + 'url_data_mega_deep_learning.csv')\n",
    "df.sample(n=25).head(25) "
   ]
  },
  {
   "cell_type": "code",
   "execution_count": 4,
   "metadata": {
    "ExecuteTime": {
     "end_time": "2023-08-02T00:57:12.776357Z",
     "start_time": "2023-08-02T00:57:09.964740Z"
    }
   },
   "outputs": [
    {
     "name": "stdout",
     "output_type": "stream",
     "text": [
      "Matrix dimensions of X:  (194798, 75) Vector dimension of target:  (194798,)\n"
     ]
    }
   ],
   "source": [
    "# Initial Data Preparation URL\n",
    "\n",
    "# Step 1: Convert raw URL string in list of lists where characters that are contained in \"printable\" are stored encoded as integer \n",
    "url_int_tokens = [[printable.index(x) + 1 for x in url if x in printable] for url in df.url]\n",
    "\n",
    "# Step 2: Cut URL string at max_len or pad with zeros if shorter\n",
    "max_len=75\n",
    "X = sequence.pad_sequences(url_int_tokens, maxlen=max_len)\n",
    " \n",
    "# Step 3: Extract labels form df to numpy array\n",
    "target = np.array(df.isMalicious)\n",
    "\n",
    "print('Matrix dimensions of X: ', X.shape, 'Vector dimension of target: ', target.shape)"
   ]
  },
  {
   "cell_type": "code",
   "execution_count": 5,
   "metadata": {
    "ExecuteTime": {
     "end_time": "2023-08-02T00:57:14.220289Z",
     "start_time": "2023-08-02T00:57:14.165551Z"
    }
   },
   "outputs": [],
   "source": [
    "# Simple Cross-Validation: Split the data set into training and test data\n",
    "X_train, X_test, target_train, target_test = model_selection.train_test_split(X, target, test_size=0.25, random_state=33)"
   ]
  },
  {
   "cell_type": "code",
   "execution_count": 6,
   "metadata": {
    "ExecuteTime": {
     "end_time": "2023-08-02T00:57:15.612445Z",
     "start_time": "2023-08-02T00:57:15.607020Z"
    }
   },
   "outputs": [],
   "source": [
    "# GENERAL get layer dimensions for any model!\n",
    "def print_layers_dims(model):\n",
    "    l_layers = model.layers\n",
    "    # Note None is ALWAYS batch_size\n",
    "    for i in range(len(l_layers)):\n",
    "        print(l_layers[i])\n",
    "        print('Input Shape: ', l_layers[i].input_shape, 'Output Shape: ', l_layers[i].output_shape)\n",
    "\n",
    "# GENERAL save model to disk function!\n",
    "def save_model(fileModelJSON,fileWeights):\n",
    "    #print(\"Saving model to disk: \",fileModelJSON,\"and\",fileWeights)\n",
    "    #have h5py installed\n",
    "    if Path(fileModelJSON).is_file():\n",
    "        os.remove(fileModelJSON)\n",
    "    json_string = model.to_json()\n",
    "    with open(fileModelJSON,'w' ) as f:\n",
    "        json.dump(json_string, f)\n",
    "    if Path(fileWeights).is_file():\n",
    "        os.remove(fileWeights)\n",
    "    model.save_weights(fileWeights)\n",
    "    \n",
    "\n",
    "# GENERAL load model from disk function!\n",
    "def load_model(fileModelJSON,fileWeights):\n",
    "    #print(\"Saving model to disk: \",fileModelJSON,\"and\",fileWeights)\n",
    "    with open(fileModelJSON, 'r') as f:\n",
    "         model_json = json.load(f)\n",
    "         model = model_from_json(model_json)\n",
    "    \n",
    "    model.load_weights(fileWeights)\n",
    "    return model"
   ]
  },
  {
   "cell_type": "markdown",
   "metadata": {},
   "source": [
    "## Architecture 1 - Simple LSTM"
   ]
  },
  {
   "cell_type": "code",
   "execution_count": 7,
   "metadata": {
    "ExecuteTime": {
     "end_time": "2023-08-02T00:57:17.065089Z",
     "start_time": "2023-08-02T00:57:17.059774Z"
    }
   },
   "outputs": [],
   "source": [
    "## Deep Learning model Definition --- A --- (Simple LSTM)\n",
    "\n",
    "\n",
    "def simple_lstm(max_len=75, emb_dim=32, max_vocab_len=100, lstm_output_size=32, W_reg=regularizers.l2(1e-4)):\n",
    "    # Input\n",
    "    main_input = Input(shape=(max_len,), dtype='int32', name='main_input')\n",
    "    # Embedding layer\n",
    "    emb = Embedding(input_dim=max_vocab_len, output_dim=emb_dim, input_length=max_len)(main_input) \n",
    "    \n",
    "    # LSTM layer\n",
    "    lstm = LSTM(lstm_output_size)(emb)\n",
    "    lstm = Dropout(0.5)(lstm)\n",
    "    \n",
    "    # Output layer (last fully connected layer)\n",
    "    output = Dense(1, activation='sigmoid', name='output')(lstm)\n",
    "\n",
    "    # Compile model and define optimizer\n",
    "    model = Model(inputs=[main_input], outputs=[output])\n",
    "    adam = tf.keras.optimizers.legacy.Adam(learning_rate=1e-4, beta_1=0.9, beta_2=0.999, epsilon=1e-08, decay=0.0)\n",
    "    model.compile(optimizer=adam, loss='binary_crossentropy', metrics=['accuracy'])\n",
    "    return model"
   ]
  },
  {
   "cell_type": "code",
   "execution_count": 8,
   "metadata": {
    "ExecuteTime": {
     "end_time": "2023-08-02T01:00:52.322922Z",
     "start_time": "2023-08-02T00:57:19.226552Z"
    }
   },
   "outputs": [
    {
     "name": "stdout",
     "output_type": "stream",
     "text": [
      "Epoch 1/3\n",
      "4566/4566 [==============================] - 45s 10ms/step - loss: 0.4692 - accuracy: 0.7848\n",
      "Epoch 2/3\n",
      "4566/4566 [==============================] - 44s 10ms/step - loss: 0.3963 - accuracy: 0.8289\n",
      "Epoch 3/3\n",
      "4566/4566 [==============================] - 44s 10ms/step - loss: 0.3827 - accuracy: 0.8353\n",
      "1522/1522 [==============================] - 4s 2ms/step - loss: 0.3654 - accuracy: 0.8405\n",
      "\n",
      "Final Cross-Validation Accuracy 0.8405338525772095 \n",
      "\n",
      "<keras.src.engine.input_layer.InputLayer object at 0x174c9df00>\n",
      "Input Shape:  [(None, 75)] Output Shape:  [(None, 75)]\n",
      "<keras.src.layers.core.embedding.Embedding object at 0x174d0e110>\n",
      "Input Shape:  (None, 75) Output Shape:  (None, 75, 32)\n",
      "<keras.src.layers.rnn.lstm.LSTM object at 0x174d0cfd0>\n",
      "Input Shape:  (None, 75, 32) Output Shape:  (None, 32)\n",
      "<keras.src.layers.regularization.dropout.Dropout object at 0x174d0efe0>\n",
      "Input Shape:  (None, 32) Output Shape:  (None, 32)\n",
      "<keras.src.layers.core.dense.Dense object at 0x174d0f790>\n",
      "Input Shape:  (None, 32) Output Shape:  (None, 1)\n"
     ]
    }
   ],
   "source": [
    "# Fit model and Cross-Validation, ARCHITECTURE 1 SIMPLE LSTM\n",
    "nb_epoch = 3\n",
    "batch_size = 32\n",
    "\n",
    "model = simple_lstm()\n",
    "model.fit(X_train, target_train, epochs=nb_epoch, batch_size=batch_size)\n",
    "loss, accuracy = model.evaluate(X_test, target_test, verbose=1)\n",
    "\n",
    "print('\\nFinal Cross-Validation Accuracy', accuracy, '\\n')\n",
    "print_layers_dims(model)"
   ]
  },
  {
   "cell_type": "code",
   "execution_count": 11,
   "metadata": {
    "ExecuteTime": {
     "end_time": "2023-08-01T20:45:35.636905Z",
     "start_time": "2023-08-01T20:45:35.636855Z"
    }
   },
   "outputs": [],
   "source": [
    "model_name = \"deeplearning_LSTM\"\n",
    "save_model(DATA_HOME + model_name + \".json\", DATA_HOME + model_name + \".h5\")\n",
    "model = load_model(DATA_HOME + model_name + \".json\", DATA_HOME + model_name + \".h5\")\n",
    "#print_layers_dims(model)"
   ]
  },
  {
   "cell_type": "markdown",
   "metadata": {},
   "source": [
    "## Architecture 2 - 1D Convolution and LSTM"
   ]
  },
  {
   "cell_type": "code",
   "execution_count": 31,
   "metadata": {
    "ExecuteTime": {
     "end_time": "2023-08-01T20:45:37.211273Z",
     "start_time": "2023-08-01T20:45:37.205338Z"
    }
   },
   "outputs": [],
   "source": [
    "## Deep Learning model Definition --- B --- (1D Convolution and LSTM)\n",
    "\n",
    "def lstm_conv(max_len=75, emb_dim=32, max_vocab_len=100, lstm_output_size=32, W_reg=regularizers.l2(1e-4)):\n",
    "    # Input\n",
    "    main_input = Input(shape=(max_len,), dtype='int32', name='main_input')\n",
    "    # Embedding layer\n",
    "    emb = Embedding(input_dim=max_vocab_len, output_dim=emb_dim, input_length=max_len,\n",
    "                activity_regularizer=W_reg)(main_input) \n",
    "    emb = Dropout(0.25)(emb)\n",
    "\n",
    "    # Conv layer\n",
    "    conv = Convolution1D(filters=256, \\\n",
    "                     kernel_size=5)(emb)\n",
    "    conv = ELU()(conv)\n",
    "\n",
    "    conv = MaxPooling1D(pool_size=4)(conv)\n",
    "    #conv = BatchNormalization(mode=0)(conv)\n",
    "    conv = Dropout(0.5)(conv)\n",
    "\n",
    "    # LSTM layer\n",
    "    lstm = LSTM(lstm_output_size)(conv)\n",
    "    lstm = Dropout(0.5)(lstm)\n",
    "    \n",
    "    # Output layer (last fully connected layer)\n",
    "    output = Dense(1, activation='sigmoid', name='output')(lstm)\n",
    "\n",
    "    # Compile model and define optimizer\n",
    "    model = Model([main_input], [output])\n",
    "    adam = tf.keras.optimizers.legacy.Adam(lr=1e-4, beta_1=0.9, beta_2=0.999, epsilon=1e-08, decay=0.0)\n",
    "    model.compile(optimizer=adam, loss='binary_crossentropy', metrics=['accuracy'])\n",
    "    return model"
   ]
  },
  {
   "cell_type": "code",
   "execution_count": 32,
   "metadata": {
    "ExecuteTime": {
     "end_time": "2023-08-01T20:45:38.831738Z",
     "start_time": "2023-08-01T20:45:38.751936Z"
    }
   },
   "outputs": [
    {
     "name": "stdout",
     "output_type": "stream",
     "text": [
      "Epoch 1/5\n",
      "4566/4566 [==============================] - 51s 11ms/step - loss: 0.4834 - accuracy: 0.7653\n",
      "Epoch 2/5\n",
      "4566/4566 [==============================] - 55s 12ms/step - loss: 0.3691 - accuracy: 0.8418\n",
      "Epoch 3/5\n",
      "4566/4566 [==============================] - 60s 13ms/step - loss: 0.3318 - accuracy: 0.8600\n",
      "Epoch 4/5\n",
      "4566/4566 [==============================] - 60s 13ms/step - loss: 0.3104 - accuracy: 0.8698\n",
      "Epoch 5/5\n",
      "4566/4566 [==============================] - 61s 13ms/step - loss: 0.2954 - accuracy: 0.8773\n",
      "1522/1522 [==============================] - 5s 3ms/step - loss: 0.2519 - accuracy: 0.8973\n",
      "\n",
      "Final Cross-Validation Accuracy 0.897289514541626 \n",
      "\n",
      "<keras.src.engine.input_layer.InputLayer object at 0x2d64afa60>\n",
      "Input Shape:  [(None, 75)] Output Shape:  [(None, 75)]\n",
      "<keras.src.layers.core.embedding.Embedding object at 0x2d7096730>\n",
      "Input Shape:  (None, 75) Output Shape:  (None, 75, 32)\n",
      "<keras.src.layers.regularization.dropout.Dropout object at 0x2d64b92e0>\n",
      "Input Shape:  (None, 75, 32) Output Shape:  (None, 75, 32)\n",
      "<keras.src.layers.convolutional.conv1d.Conv1D object at 0x2d7096760>\n",
      "Input Shape:  (None, 75, 32) Output Shape:  (None, 71, 256)\n",
      "<keras.src.layers.activation.elu.ELU object at 0x2d649bf40>\n",
      "Input Shape:  (None, 71, 256) Output Shape:  (None, 71, 256)\n",
      "<keras.src.layers.pooling.max_pooling1d.MaxPooling1D object at 0x2d7080520>\n",
      "Input Shape:  (None, 71, 256) Output Shape:  (None, 17, 256)\n",
      "<keras.src.layers.regularization.dropout.Dropout object at 0x2d70805b0>\n",
      "Input Shape:  (None, 17, 256) Output Shape:  (None, 17, 256)\n",
      "<keras.src.layers.rnn.lstm.LSTM object at 0x2d7098bb0>\n",
      "Input Shape:  (None, 17, 256) Output Shape:  (None, 32)\n",
      "<keras.src.layers.regularization.dropout.Dropout object at 0x2d64a56d0>\n",
      "Input Shape:  (None, 32) Output Shape:  (None, 32)\n",
      "<keras.src.layers.core.dense.Dense object at 0x2d7098c40>\n",
      "Input Shape:  (None, 32) Output Shape:  (None, 1)\n"
     ]
    }
   ],
   "source": [
    "# Fit model and Cross-Validation, ARCHITECTURE 2 CONV + LSTM\n",
    "nb_epoch = 5\n",
    "batch_size = 32\n",
    "\n",
    "model = lstm_conv()\n",
    "model.fit(X_train, target_train, epochs=nb_epoch, batch_size=batch_size)\n",
    "loss, accuracy = model.evaluate(X_test, target_test, verbose=1)\n",
    "\n",
    "print('\\nFinal Cross-Validation Accuracy', accuracy, '\\n')\n",
    "print_layers_dims(model)"
   ]
  },
  {
   "cell_type": "code",
   "execution_count": 33,
   "metadata": {
    "ExecuteTime": {
     "end_time": "2023-08-01T20:43:47.624911Z",
     "start_time": "2023-08-01T20:43:47.591147Z"
    }
   },
   "outputs": [],
   "source": [
    "model_name = \"deeplearning_1DConvLSTM\"\n",
    "save_model(DATA_HOME + model_name + \".json\", DATA_HOME + model_name + \".h5\")\n",
    "model = load_model(DATA_HOME + model_name + \".json\", DATA_HOME + model_name + \".h5\")\n",
    "#print_layers_dims(model)"
   ]
  },
  {
   "cell_type": "markdown",
   "metadata": {},
   "source": [
    "## Architecture 3 - 1D Convolutions and Fully Connected Layers"
   ]
  },
  {
   "cell_type": "code",
   "execution_count": 52,
   "metadata": {},
   "outputs": [],
   "source": [
    "## Deep Learning model Definition --- C --- (1D Convolutions and Fully Connected Layers)\n",
    "\n",
    "def conv_fully(max_len=75, emb_dim=32, max_vocab_len=100, W_reg=regularizers.l2(1e-4)):\n",
    "    # Input\n",
    "    main_input = Input(shape=(max_len,), dtype='int32', name='main_input')\n",
    "    # Embedding layer\n",
    "    emb = Embedding(input_dim=max_vocab_len, output_dim=emb_dim, input_length=max_len,\n",
    "                activity_regularizer=W_reg)(main_input) \n",
    "    emb = Dropout(0.25)(emb)\n",
    "\n",
    "    \n",
    "    def sum_1d(X):\n",
    "        return K.sum(X, axis=1)\n",
    "    \n",
    "    def get_conv_layer(emb, filter_length=5, nb_filter=256):\n",
    "        # Conv layer\n",
    "        conv = Convolution1D(kernel_size=filter_length, filters=nb_filter)(emb)\n",
    "        conv = ELU()(conv)\n",
    "\n",
    "        conv = Lambda(sum_1d, output_shape=(nb_filter,))(conv)\n",
    "        #conv = BatchNormalization(mode=0)(conv)\n",
    "        conv = Dropout(0.5)(conv)\n",
    "        return conv\n",
    "        \n",
    "    # Multiple Conv Layers\n",
    "    \n",
    "    # calling custom conv function from above\n",
    "    conv1 = get_conv_layer(emb, filter_length=2, nb_filter=256)\n",
    "    conv2 = get_conv_layer(emb, filter_length=3, nb_filter=256)\n",
    "    conv3 = get_conv_layer(emb, filter_length=4, nb_filter=256)\n",
    "    conv4 = get_conv_layer(emb, filter_length=5, nb_filter=256)\n",
    "\n",
    "    # Fully Connected Layers\n",
    "    merged = tf.keras.layers.Concatenate()([conv1,conv2,conv3,conv4])\n",
    "\n",
    "    hidden1 = Dense(1024)(merged)\n",
    "    hidden1 = ELU()(hidden1)\n",
    "    hidden1 = BatchNormalization()(hidden1)\n",
    "    hidden1 = Dropout(0.5)(hidden1)\n",
    "\n",
    "    hidden2 = Dense(1024)(hidden1)\n",
    "    hidden2 = ELU()(hidden2)\n",
    "    hidden2 = BatchNormalization()(hidden2)\n",
    "    hidden2 = Dropout(0.5)(hidden2)\n",
    "    \n",
    "    # Output layer (last fully connected layer)\n",
    "    output = Dense(1, activation='sigmoid', name='output')(hidden2)\n",
    "\n",
    "    # Compile model and define optimizer\n",
    "    model = Model([main_input], [output])\n",
    "    adam = tf.keras.optimizers.legacy.Adam(lr=1e-4, beta_1=0.9, beta_2=0.999, epsilon=1e-08, decay=0.0)\n",
    "    model.compile(optimizer=adam, loss='binary_crossentropy', metrics=['accuracy'])\n",
    "    return model"
   ]
  },
  {
   "cell_type": "code",
   "execution_count": 54,
   "metadata": {},
   "outputs": [
    {
     "name": "stdout",
     "output_type": "stream",
     "text": [
      "Epoch 1/5\n",
      "4566/4566 [==============================] - 83s 18ms/step - loss: 0.6324 - accuracy: 0.6902\n",
      "Epoch 2/5\n",
      "4566/4566 [==============================] - 83s 18ms/step - loss: 0.4834 - accuracy: 0.7685\n",
      "Epoch 3/5\n",
      "4566/4566 [==============================] - 84s 18ms/step - loss: 0.4437 - accuracy: 0.7927\n",
      "Epoch 4/5\n",
      "4566/4566 [==============================] - 329s 72ms/step - loss: 0.4273 - accuracy: 0.8020\n",
      "Epoch 5/5\n",
      "4566/4566 [==============================] - 75s 16ms/step - loss: 0.4154 - accuracy: 0.8095\n",
      "1522/1522 [==============================] - 10s 7ms/step - loss: 0.3756 - accuracy: 0.8305\n",
      "\n",
      "Final Cross-Validation Accuracy 0.8304722905158997 \n",
      "\n",
      "<keras.src.engine.input_layer.InputLayer object at 0x2d6409df0>\n",
      "Input Shape:  [(None, 75)] Output Shape:  [(None, 75)]\n",
      "<keras.src.layers.core.embedding.Embedding object at 0x2b6361280>\n",
      "Input Shape:  (None, 75) Output Shape:  (None, 75, 32)\n",
      "<keras.src.layers.regularization.dropout.Dropout object at 0x2b6361790>\n",
      "Input Shape:  (None, 75, 32) Output Shape:  (None, 75, 32)\n",
      "<keras.src.layers.convolutional.conv1d.Conv1D object at 0x2d638dbb0>\n",
      "Input Shape:  (None, 75, 32) Output Shape:  (None, 74, 256)\n",
      "<keras.src.layers.convolutional.conv1d.Conv1D object at 0x2d72764f0>\n",
      "Input Shape:  (None, 75, 32) Output Shape:  (None, 73, 256)\n",
      "<keras.src.layers.convolutional.conv1d.Conv1D object at 0x2d750dee0>\n",
      "Input Shape:  (None, 75, 32) Output Shape:  (None, 72, 256)\n",
      "<keras.src.layers.convolutional.conv1d.Conv1D object at 0x2d7501820>\n",
      "Input Shape:  (None, 75, 32) Output Shape:  (None, 71, 256)\n",
      "<keras.src.layers.activation.elu.ELU object at 0x2b2cc9bb0>\n",
      "Input Shape:  (None, 74, 256) Output Shape:  (None, 74, 256)\n",
      "<keras.src.layers.activation.elu.ELU object at 0x2d72763a0>\n",
      "Input Shape:  (None, 73, 256) Output Shape:  (None, 73, 256)\n",
      "<keras.src.layers.activation.elu.ELU object at 0x2d7edfbb0>\n",
      "Input Shape:  (None, 72, 256) Output Shape:  (None, 72, 256)\n",
      "<keras.src.layers.activation.elu.ELU object at 0x2d7501fd0>\n",
      "Input Shape:  (None, 71, 256) Output Shape:  (None, 71, 256)\n",
      "<keras.src.layers.core.lambda_layer.Lambda object at 0x2d64dfcd0>\n",
      "Input Shape:  (None, 74, 256) Output Shape:  (None, 256)\n",
      "<keras.src.layers.core.lambda_layer.Lambda object at 0x2d7edfe80>\n",
      "Input Shape:  (None, 73, 256) Output Shape:  (None, 256)\n",
      "<keras.src.layers.core.lambda_layer.Lambda object at 0x2d75098b0>\n",
      "Input Shape:  (None, 72, 256) Output Shape:  (None, 256)\n",
      "<keras.src.layers.core.lambda_layer.Lambda object at 0x2d7509a00>\n",
      "Input Shape:  (None, 71, 256) Output Shape:  (None, 256)\n",
      "<keras.src.layers.regularization.dropout.Dropout object at 0x2d64df250>\n",
      "Input Shape:  (None, 256) Output Shape:  (None, 256)\n",
      "<keras.src.layers.regularization.dropout.Dropout object at 0x2d7edf820>\n",
      "Input Shape:  (None, 256) Output Shape:  (None, 256)\n",
      "<keras.src.layers.regularization.dropout.Dropout object at 0x2d72c88e0>\n",
      "Input Shape:  (None, 256) Output Shape:  (None, 256)\n",
      "<keras.src.layers.regularization.dropout.Dropout object at 0x2e3d30370>\n",
      "Input Shape:  (None, 256) Output Shape:  (None, 256)\n",
      "<keras.src.layers.merging.concatenate.Concatenate object at 0x2e57c2160>\n",
      "Input Shape:  [(None, 256), (None, 256), (None, 256), (None, 256)] Output Shape:  (None, 1024)\n",
      "<keras.src.layers.core.dense.Dense object at 0x2d7387850>\n",
      "Input Shape:  (None, 1024) Output Shape:  (None, 1024)\n",
      "<keras.src.layers.activation.elu.ELU object at 0x2e3d30130>\n",
      "Input Shape:  (None, 1024) Output Shape:  (None, 1024)\n",
      "<keras.src.layers.normalization.batch_normalization.BatchNormalization object at 0x2d72d90a0>\n",
      "Input Shape:  (None, 1024) Output Shape:  (None, 1024)\n",
      "<keras.src.layers.regularization.dropout.Dropout object at 0x2d72d9730>\n",
      "Input Shape:  (None, 1024) Output Shape:  (None, 1024)\n",
      "<keras.src.layers.core.dense.Dense object at 0x2e3d5c1c0>\n",
      "Input Shape:  (None, 1024) Output Shape:  (None, 1024)\n",
      "<keras.src.layers.activation.elu.ELU object at 0x2d7b19790>\n",
      "Input Shape:  (None, 1024) Output Shape:  (None, 1024)\n",
      "<keras.src.layers.normalization.batch_normalization.BatchNormalization object at 0x2b4bbe9a0>\n",
      "Input Shape:  (None, 1024) Output Shape:  (None, 1024)\n",
      "<keras.src.layers.regularization.dropout.Dropout object at 0x2b4bbef10>\n",
      "Input Shape:  (None, 1024) Output Shape:  (None, 1024)\n",
      "<keras.src.layers.core.dense.Dense object at 0x2b1314b80>\n",
      "Input Shape:  (None, 1024) Output Shape:  (None, 1)\n"
     ]
    }
   ],
   "source": [
    "# Fit model and Cross-Validation, ARCHITECTURE 3 CONV + FULLY CONNECTED\n",
    "nb_epoch = 5\n",
    "batch_size = 32\n",
    "\n",
    "model = conv_fully()\n",
    "model.fit(X_train, target_train, epochs=nb_epoch, batch_size=batch_size)\n",
    "loss, accuracy = model.evaluate(X_test, target_test, verbose=1)\n",
    "\n",
    "print('\\nFinal Cross-Validation Accuracy', accuracy, '\\n')\n",
    "print_layers_dims(model)"
   ]
  },
  {
   "cell_type": "code",
   "execution_count": 55,
   "metadata": {},
   "outputs": [
    {
     "name": "stdout",
     "output_type": "stream",
     "text": [
      "48700/48700 [==============================] - 71s 1ms/step\n"
     ]
    }
   ],
   "source": [
    "# get probabilities of target predictions\n",
    "target_proba = model.predict(X_test, batch_size=1)"
   ]
  },
  {
   "cell_type": "code",
   "execution_count": 56,
   "metadata": {},
   "outputs": [
    {
     "data": {
      "text/plain": [
       "array([[0.26679173],\n",
       "       [0.9480639 ],\n",
       "       [0.7216458 ],\n",
       "       [0.65599823],\n",
       "       [0.87424594],\n",
       "       [0.02143307],\n",
       "       [0.34641847],\n",
       "       [0.99341804],\n",
       "       [0.02237426],\n",
       "       [0.28046033]], dtype=float32)"
      ]
     },
     "execution_count": 56,
     "metadata": {},
     "output_type": "execute_result"
    }
   ],
   "source": [
    "target_proba[0:10]"
   ]
  },
  {
   "cell_type": "code",
   "execution_count": 61,
   "metadata": {},
   "outputs": [],
   "source": [
    "model_name = \"deeplearning_1DConv\"\n",
    "save_model(DATA_HOME + model_name + \".json\", DATA_HOME + model_name + \".h5\")\n",
    "# model = load_model(DATA_HOME + model_name + \".json\", DATA_HOME + model_name + \".h5\")\n",
    "#print_layers_dims(model)"
   ]
  },
  {
   "cell_type": "code",
   "execution_count": 62,
   "metadata": {},
   "outputs": [
    {
     "data": {
      "text/plain": [
       "(100, 32)"
      ]
     },
     "execution_count": 62,
     "metadata": {},
     "output_type": "execute_result"
    }
   ],
   "source": [
    "# get for example word2vec embedding weight matix\n",
    "l_layers = model.layers\n",
    "weights = l_layers[1].get_weights()\n",
    "weights[0].shape"
   ]
  },
  {
   "cell_type": "markdown",
   "metadata": {},
   "source": [
    "## Making a new prediction"
   ]
  },
  {
   "cell_type": "code",
   "execution_count": 83,
   "metadata": {},
   "outputs": [],
   "source": [
    "test_url_mal = \"naureen.net/etisalat.ae/index2.php\"\n",
    "test_url_benign = \"sixt.com/php/reservation?language=en_US\"\n",
    "\n",
    "url = test_url_benign"
   ]
  },
  {
   "cell_type": "code",
   "execution_count": 84,
   "metadata": {},
   "outputs": [],
   "source": [
    "# Step 1: Convert raw URL string in list of lists where characters that are contained in \"printable\" are stored encoded as integer \n",
    "url_int_tokens = [[printable.index(x) + 1 for x in url if x in printable]]\n",
    "\n",
    "# Step 2: Cut URL string at max_len or pad with zeros if shorter\n",
    "max_len=75\n",
    "X = sequence.pad_sequences(url_int_tokens, maxlen=max_len)"
   ]
  },
  {
   "cell_type": "code",
   "execution_count": 85,
   "metadata": {},
   "outputs": [
    {
     "name": "stdout",
     "output_type": "stream",
     "text": [
      "1/1 [==============================] - 0s 18ms/step\n",
      "Test URL: sixt.com/php/reservation?language=en_US is benign\n"
     ]
    }
   ],
   "source": [
    "target_proba = model.predict(X, batch_size=5)\n",
    "def print_result(proba):\n",
    "    if proba > 0.5:\n",
    "        return \"malicious\"\n",
    "    else:\n",
    "        return \"benign\"\n",
    "print(\"Test URL:\", url, \"is\", print_result(target_proba[0]))"
   ]
  },
  {
   "cell_type": "code",
   "execution_count": null,
   "metadata": {
    "collapsed": true
   },
   "outputs": [],
   "source": []
  }
 ],
 "metadata": {
  "kernelspec": {
   "display_name": "Python 3 (ipykernel)",
   "language": "python",
   "name": "python3"
  },
  "language_info": {
   "codemirror_mode": {
    "name": "ipython",
    "version": 3
   },
   "file_extension": ".py",
   "mimetype": "text/x-python",
   "name": "python",
   "nbconvert_exporter": "python",
   "pygments_lexer": "ipython3",
   "version": "3.10.12"
  },
  "varInspector": {
   "cols": {
    "lenName": 16,
    "lenType": 16,
    "lenVar": 40
   },
   "kernels_config": {
    "python": {
     "delete_cmd_postfix": "",
     "delete_cmd_prefix": "del ",
     "library": "var_list.py",
     "varRefreshCmd": "print(var_dic_list())"
    },
    "r": {
     "delete_cmd_postfix": ") ",
     "delete_cmd_prefix": "rm(",
     "library": "var_list.r",
     "varRefreshCmd": "cat(var_dic_list()) "
    }
   },
   "types_to_exclude": [
    "module",
    "function",
    "builtin_function_or_method",
    "instance",
    "_Feature"
   ],
   "window_display": false
  }
 },
 "nbformat": 4,
 "nbformat_minor": 2
}
